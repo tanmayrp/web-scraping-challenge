{
 "cells": [
  {
   "cell_type": "code",
   "execution_count": 3,
   "id": "opposite-chorus",
   "metadata": {},
   "outputs": [],
   "source": [
    "from splinter import Browser\n",
    "from bs4 import BeautifulSoup\n",
    "from webdriver_manager.chrome import ChromeDriverManager"
   ]
  },
  {
   "cell_type": "code",
   "execution_count": 4,
   "id": "cutting-healthcare",
   "metadata": {},
   "outputs": [
    {
     "name": "stderr",
     "output_type": "stream",
     "text": [
      "\n",
      "\n",
      "====== WebDriver manager ======\n",
      "Current google-chrome version is 91.0.4472\n",
      "Get LATEST driver version for 91.0.4472\n",
      "Get LATEST driver version for 91.0.4472\n",
      "Trying to download new driver from https://chromedriver.storage.googleapis.com/91.0.4472.19/chromedriver_win32.zip\n",
      "Driver has been saved in cache [C:\\Users\\tpatel\\.wdm\\drivers\\chromedriver\\win32\\91.0.4472.19]\n"
     ]
    }
   ],
   "source": [
    "executable_path = {'executable_path': ChromeDriverManager().install()}\n",
    "browser = Browser('chrome', **executable_path, headless=False)"
   ]
  },
  {
   "cell_type": "code",
   "execution_count": 5,
   "id": "wound-manitoba",
   "metadata": {},
   "outputs": [],
   "source": [
    "# Website to Scrape data\n",
    "url = 'https://redplanetscience.com/'\n",
    "browser.visit(url)"
   ]
  },
  {
   "cell_type": "code",
   "execution_count": 6,
   "id": "pretty-editing",
   "metadata": {},
   "outputs": [],
   "source": [
    "html = browser.html\n",
    "soup = BeautifulSoup(html, 'html.parser')\n"
   ]
  },
  {
   "cell_type": "markdown",
   "id": "juvenile-slovakia",
   "metadata": {},
   "source": [
    "# NASA Mars News\n",
    "Scrape the Mars News Site and collect the latest News Title and Paragraph Text to be referenced later."
   ]
  },
  {
   "cell_type": "code",
   "execution_count": 19,
   "id": "colored-afghanistan",
   "metadata": {},
   "outputs": [
    {
     "data": {
      "text/plain": [
       "[\"Mars InSight Lander to Push on Top of the 'Mole'\",\n",
       " \"Follow NASA's Perseverance Rover in Real Time on Its Way to Mars\",\n",
       " 'MOXIE Could Help Future Rockets Launch Off Mars',\n",
       " \"The Detective Aboard NASA's Perseverance Rover\",\n",
       " 'Global Storms on Mars Launch Dust Towers Into the Sky',\n",
       " \"NASA-JPL Names 'Rolling Stones Rock' on Mars\",\n",
       " \"NASA's Curiosity Takes Selfie With 'Mary Anning' on the Red Planet\",\n",
       " \"NASA's Perseverance Mars Rover Gets Balanced\",\n",
       " 'NASA, ULA Launch Mars 2020 Perseverance Rover Mission to Red Planet',\n",
       " \"All About the Laser (and Microphone) Atop Mars 2020, NASA's Next Rover\",\n",
       " 'NASA Prepares for Moon and Mars With New Addition to Its Deep Space Network',\n",
       " \"What's Mars Solar Conjunction, and Why Does It Matter?\",\n",
       " \"NASA's Mars Reconnaissance Orbiter Undergoes Memory Update\",\n",
       " 'Naming a NASA Mars Rover Can Change Your Life',\n",
       " 'Space History Is Made in This NASA Robot Factory']"
      ]
     },
     "execution_count": 19,
     "metadata": {},
     "output_type": "execute_result"
    }
   ],
   "source": [
    "# Scrape the site to find all news titles\n",
    "titles = soup.find_all('div', class_='content_title')\n",
    "news_title = []\n",
    "for title in titles:\n",
    "    news_title.append(title.text)\n",
    "\n",
    "news_title"
   ]
  },
  {
   "cell_type": "code",
   "execution_count": 28,
   "id": "corresponding-radius",
   "metadata": {},
   "outputs": [
    {
     "name": "stdout",
     "output_type": "stream",
     "text": [
      "[]\n"
     ]
    }
   ],
   "source": [
    "# Scrape the site to find all news paragraphs\n",
    "paragraphs = soup.find_all('div', class_='article_teaser_body')\n",
    "news_p = []\n",
    "for paragraph in paragraphs:\n",
    "    news_p.append(paragraph.text)\n",
    "\n",
    "news_p"
   ]
  },
  {
   "cell_type": "markdown",
   "id": "broken-subscriber",
   "metadata": {},
   "source": [
    "# JPL Mars Space Images - Featured Image\n",
    "Visit the specified URL, use splinter to navigate the site and find the image url fo rhte current Featured Mars Image."
   ]
  },
  {
   "cell_type": "code",
   "execution_count": 22,
   "id": "instructional-clothing",
   "metadata": {},
   "outputs": [],
   "source": [
    "url = 'https://spaceimages-mars.com/'\n",
    "browser.visit(url)"
   ]
  },
  {
   "cell_type": "code",
   "execution_count": 40,
   "id": "declared-costume",
   "metadata": {},
   "outputs": [
    {
     "name": "stdout",
     "output_type": "stream",
     "text": [
      "https://spaceimages-mars.com/image/featured/mars2.jpg\n"
     ]
    }
   ],
   "source": [
    "html = browser.html\n",
    "soup = BeautifulSoup(html, 'html.parser')\n",
    "\n",
    "# Retrieve image url\n",
    "div_data=soup.find_all('div', class_='floating_text_area')\n",
    "\n",
    "# Go through data and find the image href\n",
    "for div in div_data:\n",
    "    image_url = div.find('a')['href']\n",
    "\n",
    "# Join the url with image_url to create the fully qualified image_url to be used\n",
    "featured_image_url = url + image_url\n",
    "\n",
    "print(featured_image_url)"
   ]
  },
  {
   "cell_type": "code",
   "execution_count": null,
   "id": "antique-privacy",
   "metadata": {},
   "outputs": [],
   "source": []
  }
 ],
 "metadata": {
  "kernelspec": {
   "display_name": "Python [conda env:PythonData]",
   "language": "python",
   "name": "conda-env-PythonData-py"
  },
  "language_info": {
   "codemirror_mode": {
    "name": "ipython",
    "version": 3
   },
   "file_extension": ".py",
   "mimetype": "text/x-python",
   "name": "python",
   "nbconvert_exporter": "python",
   "pygments_lexer": "ipython3",
   "version": "3.8.8"
  }
 },
 "nbformat": 4,
 "nbformat_minor": 5
}
